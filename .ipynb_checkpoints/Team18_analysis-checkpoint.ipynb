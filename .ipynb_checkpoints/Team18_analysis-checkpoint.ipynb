{
 "cells": [
  {
   "cell_type": "markdown",
   "metadata": {
    "deletable": true,
    "editable": true
   },
   "source": [
    "## 빅 데이터 분석 및 시각화 개론 프로젝트\n",
    "# 주제: 대중교통 승하차 데이터를 이용한 우이신설선 수요 예측\n",
    "## 18조: 장민우, 표성준, 한승규\n",
    "---\n",
    "주거구역, 환승구역 등 연구 차원에서 지정한 용어는 발표자료를 참고 부탁드립니다."
   ]
  },
  {
   "cell_type": "code",
   "execution_count": 1,
   "metadata": {
    "collapsed": true,
    "deletable": true,
    "editable": true
   },
   "outputs": [],
   "source": [
    "import numpy as np\n",
    "import pandas as pd\n",
    "import matplotlib.pyplot as plt\n",
    "%matplotlib inline"
   ]
  },
  {
   "cell_type": "markdown",
   "metadata": {},
   "source": [
    "### 우이신설선 환승역(환승구역) 주변의 모든 버스 정류장\n",
    "- 서울특별시에서 제공하는 지하철역 근처 버스 정류장 리스트를 활용함.\n",
    "- 우이신설선 정보가 제공되지 않음에 따라 우이신설선은 별도로 검색 (추후 데이터가 직접 제공될 경우 이를 활용 가능)\n",
    "- 버스정류장 ID 중 0으로 시작하는 ID의 경우 데이터 정제과정 중 (숫자형 자료형으로 변환되어) 자리수가 변동이 있을 수 있으나, 버스정류장 ID는 기본적으로 다섯자리라는 사전 정보를 감안하여 처리함. \n",
    "- 환승 수요가 많으므로 기존 버스 이용 시 반드시 이 역에서 환승하지 않았을 가능성이 있으므로, 실제 환승역을 기준으로 앞/뒤 한 역씩 추가적으로 조사하였음."
   ]
  },
  {
   "cell_type": "code",
   "execution_count": 2,
   "metadata": {
    "collapsed": false,
    "deletable": true,
    "editable": true
   },
   "outputs": [
    {
     "data": {
      "text/html": [
       "<div>\n",
       "<table border=\"1\" class=\"dataframe\">\n",
       "  <thead>\n",
       "    <tr style=\"text-align: right;\">\n",
       "      <th></th>\n",
       "      <th>전철역코드</th>\n",
       "      <th>외부코드</th>\n",
       "      <th>전철역명</th>\n",
       "      <th>호선</th>\n",
       "      <th>정류장명</th>\n",
       "      <th>정류장ID</th>\n",
       "      <th>X좌표</th>\n",
       "      <th>Y좌표</th>\n",
       "    </tr>\n",
       "  </thead>\n",
       "  <tbody>\n",
       "    <tr>\n",
       "      <th>0</th>\n",
       "      <td>1958</td>\n",
       "      <td>310</td>\n",
       "      <td>대화</td>\n",
       "      <td>3</td>\n",
       "      <td>예비군훈련장</td>\n",
       "      <td>36262</td>\n",
       "      <td>177627</td>\n",
       "      <td>464279</td>\n",
       "    </tr>\n",
       "    <tr>\n",
       "      <th>1</th>\n",
       "      <td>1958</td>\n",
       "      <td>310</td>\n",
       "      <td>대화</td>\n",
       "      <td>3</td>\n",
       "      <td>대화역</td>\n",
       "      <td>36281</td>\n",
       "      <td>177715</td>\n",
       "      <td>464099</td>\n",
       "    </tr>\n",
       "    <tr>\n",
       "      <th>2</th>\n",
       "      <td>1958</td>\n",
       "      <td>310</td>\n",
       "      <td>대화</td>\n",
       "      <td>3</td>\n",
       "      <td>대화역</td>\n",
       "      <td>36601</td>\n",
       "      <td>177718</td>\n",
       "      <td>464073</td>\n",
       "    </tr>\n",
       "    <tr>\n",
       "      <th>3</th>\n",
       "      <td>1805</td>\n",
       "      <td>150</td>\n",
       "      <td>송내</td>\n",
       "      <td>1</td>\n",
       "      <td>송내역</td>\n",
       "      <td>46039</td>\n",
       "      <td>178169</td>\n",
       "      <td>443269</td>\n",
       "    </tr>\n",
       "    <tr>\n",
       "      <th>4</th>\n",
       "      <td>1805</td>\n",
       "      <td>150</td>\n",
       "      <td>송내</td>\n",
       "      <td>1</td>\n",
       "      <td>송내역</td>\n",
       "      <td>46731</td>\n",
       "      <td>178200</td>\n",
       "      <td>443181</td>\n",
       "    </tr>\n",
       "  </tbody>\n",
       "</table>\n",
       "</div>"
      ],
      "text/plain": [
       "   전철역코드 외부코드 전철역명 호선    정류장명  정류장ID     X좌표     Y좌표\n",
       "0   1958  310   대화  3  예비군훈련장  36262  177627  464279\n",
       "1   1958  310   대화  3     대화역  36281  177715  464099\n",
       "2   1958  310   대화  3     대화역  36601  177718  464073\n",
       "3   1805  150   송내  1     송내역  46039  178169  443269\n",
       "4   1805  150   송내  1     송내역  46731  178200  443181"
      ]
     },
     "execution_count": 2,
     "metadata": {},
     "output_type": "execute_result"
    }
   ],
   "source": [
    "subwayToBus = pd.read_csv('subwayToBus.csv')\n",
    "subwayToBus.head()"
   ]
  },
  {
   "cell_type": "code",
   "execution_count": 3,
   "metadata": {
    "collapsed": false,
    "deletable": true,
    "editable": true
   },
   "outputs": [
    {
     "data": {
      "text/html": [
       "<div>\n",
       "<table border=\"1\" class=\"dataframe\">\n",
       "  <thead>\n",
       "    <tr style=\"text-align: right;\">\n",
       "      <th></th>\n",
       "      <th>전철역코드</th>\n",
       "      <th>외부코드</th>\n",
       "      <th>전철역명</th>\n",
       "      <th>호선</th>\n",
       "      <th>정류장명</th>\n",
       "      <th>정류장ID</th>\n",
       "      <th>X좌표</th>\n",
       "      <th>Y좌표</th>\n",
       "    </tr>\n",
       "  </thead>\n",
       "  <tbody>\n",
       "    <tr>\n",
       "      <th>1088</th>\n",
       "      <td>418.0</td>\n",
       "      <td>418</td>\n",
       "      <td>성신여대입구</td>\n",
       "      <td>4</td>\n",
       "      <td>삼선동주민센터</td>\n",
       "      <td>8176.0</td>\n",
       "      <td>201300.0</td>\n",
       "      <td>454575.0</td>\n",
       "    </tr>\n",
       "    <tr>\n",
       "      <th>1089</th>\n",
       "      <td>418.0</td>\n",
       "      <td>418</td>\n",
       "      <td>성신여대입구</td>\n",
       "      <td>4</td>\n",
       "      <td>성신여대입구</td>\n",
       "      <td>8269.0</td>\n",
       "      <td>201435.0</td>\n",
       "      <td>454875.0</td>\n",
       "    </tr>\n",
       "    <tr>\n",
       "      <th>1090</th>\n",
       "      <td>418.0</td>\n",
       "      <td>418</td>\n",
       "      <td>성신여대입구</td>\n",
       "      <td>4</td>\n",
       "      <td>성신여대입구</td>\n",
       "      <td>8270.0</td>\n",
       "      <td>201449.0</td>\n",
       "      <td>454884.0</td>\n",
       "    </tr>\n",
       "    <tr>\n",
       "      <th>1091</th>\n",
       "      <td>418.0</td>\n",
       "      <td>418</td>\n",
       "      <td>성신여대입구</td>\n",
       "      <td>4</td>\n",
       "      <td>돈암시장입구</td>\n",
       "      <td>8305.0</td>\n",
       "      <td>201461.0</td>\n",
       "      <td>454719.0</td>\n",
       "    </tr>\n",
       "    <tr>\n",
       "      <th>1092</th>\n",
       "      <td>418.0</td>\n",
       "      <td>418</td>\n",
       "      <td>성신여대입구</td>\n",
       "      <td>4</td>\n",
       "      <td>돈암시장입구</td>\n",
       "      <td>8306.0</td>\n",
       "      <td>201478.0</td>\n",
       "      <td>454709.0</td>\n",
       "    </tr>\n",
       "    <tr>\n",
       "      <th>1093</th>\n",
       "      <td>418.0</td>\n",
       "      <td>418</td>\n",
       "      <td>성신여대입구</td>\n",
       "      <td>4</td>\n",
       "      <td>돈암사거리성신여대입구</td>\n",
       "      <td>8008.0</td>\n",
       "      <td>201576.0</td>\n",
       "      <td>454865.0</td>\n",
       "    </tr>\n",
       "    <tr>\n",
       "      <th>1094</th>\n",
       "      <td>418.0</td>\n",
       "      <td>418</td>\n",
       "      <td>성신여대입구</td>\n",
       "      <td>4</td>\n",
       "      <td>돈암사거리성신여대입구</td>\n",
       "      <td>8007.0</td>\n",
       "      <td>201602.0</td>\n",
       "      <td>454913.0</td>\n",
       "    </tr>\n",
       "  </tbody>\n",
       "</table>\n",
       "</div>"
      ],
      "text/plain": [
       "      전철역코드 외부코드    전철역명 호선         정류장명   정류장ID       X좌표       Y좌표\n",
       "1088  418.0  418  성신여대입구  4      삼선동주민센터  8176.0  201300.0  454575.0\n",
       "1089  418.0  418  성신여대입구  4       성신여대입구  8269.0  201435.0  454875.0\n",
       "1090  418.0  418  성신여대입구  4       성신여대입구  8270.0  201449.0  454884.0\n",
       "1091  418.0  418  성신여대입구  4       돈암시장입구  8305.0  201461.0  454719.0\n",
       "1092  418.0  418  성신여대입구  4       돈암시장입구  8306.0  201478.0  454709.0\n",
       "1093  418.0  418  성신여대입구  4  돈암사거리성신여대입구  8008.0  201576.0  454865.0\n",
       "1094  418.0  418  성신여대입구  4  돈암사거리성신여대입구  8007.0  201602.0  454913.0"
      ]
     },
     "execution_count": 3,
     "metadata": {},
     "output_type": "execute_result"
    }
   ],
   "source": [
    "transfer_region_list = list()\n",
    "subway_list = ['성신여대입구','길음','한성대입구','안암','보문','창신','제기동','신설동','동묘앞']\n",
    "for station in subway_list:\n",
    "    transfer_region_list.append(subwayToBus.where(subwayToBus['전철역명'] == station).dropna())\n",
    "transfer_region_list[0]"
   ]
  },
  {
   "cell_type": "code",
   "execution_count": 4,
   "metadata": {
    "collapsed": false,
    "deletable": true,
    "editable": true
   },
   "outputs": [],
   "source": [
    "transfer_region = list()\n",
    "for i in transfer_region_list:\n",
    "    temp_list = i['정류장ID'].tolist()\n",
    "    for j in temp_list:\n",
    "        transfer_region.append(int(j))"
   ]
  },
  {
   "cell_type": "markdown",
   "metadata": {},
   "source": [
    "### 우이신설선 비환승역(주거구역) 주변 반경 350m 안의 모든 버스 정류장\n",
    "- 관련 공식 데이터가 준비되지 않아 수동으로 조사함.\n",
    "- 주거구역이므로 반경 350m(도보 5분) 이내로 기준을 정함."
   ]
  },
  {
   "cell_type": "code",
   "execution_count": 5,
   "metadata": {
    "collapsed": false,
    "deletable": true,
    "editable": true
   },
   "outputs": [
    {
     "data": {
      "text/html": [
       "<div>\n",
       "<table border=\"1\" class=\"dataframe\">\n",
       "  <thead>\n",
       "    <tr style=\"text-align: right;\">\n",
       "      <th></th>\n",
       "      <th>전철역명</th>\n",
       "      <th>정류장명</th>\n",
       "      <th>정류장ID</th>\n",
       "    </tr>\n",
       "  </thead>\n",
       "  <tbody>\n",
       "    <tr>\n",
       "      <th>0</th>\n",
       "      <td>북한산우이</td>\n",
       "      <td>우이동</td>\n",
       "      <td>9500</td>\n",
       "    </tr>\n",
       "    <tr>\n",
       "      <th>1</th>\n",
       "      <td>북한산우이</td>\n",
       "      <td>우이동차고지종점</td>\n",
       "      <td>9294</td>\n",
       "    </tr>\n",
       "    <tr>\n",
       "      <th>2</th>\n",
       "      <td>북한산우이</td>\n",
       "      <td>우이동차고지기점</td>\n",
       "      <td>9289</td>\n",
       "    </tr>\n",
       "    <tr>\n",
       "      <th>3</th>\n",
       "      <td>북한산우이</td>\n",
       "      <td>우이동도선사입구</td>\n",
       "      <td>9102</td>\n",
       "    </tr>\n",
       "    <tr>\n",
       "      <th>4</th>\n",
       "      <td>북한산우이</td>\n",
       "      <td>우이동도선사입구</td>\n",
       "      <td>9101</td>\n",
       "    </tr>\n",
       "  </tbody>\n",
       "</table>\n",
       "</div>"
      ],
      "text/plain": [
       "    전철역명      정류장명  정류장ID\n",
       "0  북한산우이       우이동   9500\n",
       "1  북한산우이  우이동차고지종점   9294\n",
       "2  북한산우이  우이동차고지기점   9289\n",
       "3  북한산우이  우이동도선사입구   9102\n",
       "4  북한산우이  우이동도선사입구   9101"
      ]
     },
     "execution_count": 5,
     "metadata": {},
     "output_type": "execute_result"
    }
   ],
   "source": [
    "HomeRegionData = pd.read_csv('HomeRegion.csv')\n",
    "HomeRegionData.head()"
   ]
  },
  {
   "cell_type": "code",
   "execution_count": 6,
   "metadata": {
    "collapsed": false,
    "deletable": true,
    "editable": true
   },
   "outputs": [],
   "source": [
    "home_region = list()\n",
    "temp_list = HomeRegionData['정류장ID'].tolist()\n",
    "for j in temp_list:\n",
    "    home_region.append(int(j))"
   ]
  },
  {
   "cell_type": "markdown",
   "metadata": {},
   "source": [
    "### 환승구역과 주거구역을 잇는 모든 버스 노선들을 검색\n",
    "- 우이신설선 개통 직전인 2017년 8월, 모든 버스의 정류장별 승하차 인원 데이터를 기반으로, 해당 노선이 지나가는 버스 정류소들을 확인 가능\n",
    "- 지하철이 운행종료한 후 운행하는 N버스(심야버스) 는 제외하였음"
   ]
  },
  {
   "cell_type": "code",
   "execution_count": 7,
   "metadata": {
    "collapsed": false,
    "deletable": true,
    "editable": true
   },
   "outputs": [
    {
     "data": {
      "text/html": [
       "<div>\n",
       "<table border=\"1\" class=\"dataframe\">\n",
       "  <thead>\n",
       "    <tr style=\"text-align: right;\">\n",
       "      <th></th>\n",
       "      <th>사용일자</th>\n",
       "      <th>노선번호</th>\n",
       "      <th>노선명</th>\n",
       "      <th>표준버스정류장ID</th>\n",
       "      <th>버스정류장ARS번호</th>\n",
       "      <th>역명</th>\n",
       "      <th>승차총승객수</th>\n",
       "      <th>하차총승객수</th>\n",
       "      <th>등록일자</th>\n",
       "    </tr>\n",
       "  </thead>\n",
       "  <tbody>\n",
       "    <tr>\n",
       "      <th>0</th>\n",
       "      <td>20170801.0</td>\n",
       "      <td>400</td>\n",
       "      <td>400번(염곡동~시청)</td>\n",
       "      <td>102000171.0</td>\n",
       "      <td>03265</td>\n",
       "      <td>국립중앙박물관용산가족공원</td>\n",
       "      <td>130.0</td>\n",
       "      <td>108.0</td>\n",
       "      <td>20170804.0</td>\n",
       "    </tr>\n",
       "    <tr>\n",
       "      <th>1</th>\n",
       "      <td>20170801.0</td>\n",
       "      <td>400</td>\n",
       "      <td>400번(염곡동~시청)</td>\n",
       "      <td>102000188.0</td>\n",
       "      <td>03282</td>\n",
       "      <td>한국폴리텍1대학</td>\n",
       "      <td>180.0</td>\n",
       "      <td>329.0</td>\n",
       "      <td>20170804.0</td>\n",
       "    </tr>\n",
       "    <tr>\n",
       "      <th>2</th>\n",
       "      <td>20170801.0</td>\n",
       "      <td>400</td>\n",
       "      <td>400번(염곡동~시청)</td>\n",
       "      <td>102000179.0</td>\n",
       "      <td>03273</td>\n",
       "      <td>서빙고동주민센터</td>\n",
       "      <td>143.0</td>\n",
       "      <td>65.0</td>\n",
       "      <td>20170804.0</td>\n",
       "    </tr>\n",
       "    <tr>\n",
       "      <th>3</th>\n",
       "      <td>20170801.0</td>\n",
       "      <td>400</td>\n",
       "      <td>400번(염곡동~시청)</td>\n",
       "      <td>102000178.0</td>\n",
       "      <td>03272</td>\n",
       "      <td>서빙고동</td>\n",
       "      <td>37.0</td>\n",
       "      <td>160.0</td>\n",
       "      <td>20170804.0</td>\n",
       "    </tr>\n",
       "    <tr>\n",
       "      <th>4</th>\n",
       "      <td>20170801.0</td>\n",
       "      <td>400</td>\n",
       "      <td>400번(염곡동~시청)</td>\n",
       "      <td>102000180.0</td>\n",
       "      <td>03274</td>\n",
       "      <td>동빙고동</td>\n",
       "      <td>140.0</td>\n",
       "      <td>152.0</td>\n",
       "      <td>20170804.0</td>\n",
       "    </tr>\n",
       "  </tbody>\n",
       "</table>\n",
       "</div>"
      ],
      "text/plain": [
       "         사용일자 노선번호           노선명    표준버스정류장ID 버스정류장ARS번호             역명  \\\n",
       "0  20170801.0  400  400번(염곡동~시청)  102000171.0      03265  국립중앙박물관용산가족공원   \n",
       "1  20170801.0  400  400번(염곡동~시청)  102000188.0      03282       한국폴리텍1대학   \n",
       "2  20170801.0  400  400번(염곡동~시청)  102000179.0      03273       서빙고동주민센터   \n",
       "3  20170801.0  400  400번(염곡동~시청)  102000178.0      03272           서빙고동   \n",
       "4  20170801.0  400  400번(염곡동~시청)  102000180.0      03274           동빙고동   \n",
       "\n",
       "   승차총승객수  하차총승객수        등록일자  \n",
       "0   130.0   108.0  20170804.0  \n",
       "1   180.0   329.0  20170804.0  \n",
       "2   143.0    65.0  20170804.0  \n",
       "3    37.0   160.0  20170804.0  \n",
       "4   140.0   152.0  20170804.0  "
      ]
     },
     "execution_count": 7,
     "metadata": {},
     "output_type": "execute_result"
    }
   ],
   "source": [
    "busStationBoarding = pd.read_csv('BUS_STATION_BOARDING_MONTH_201708.csv')\n",
    "busStationBoarding = busStationBoarding.where(busStationBoarding['사용일자'] == 20170801).dropna()\n",
    "busStationBoarding.head()"
   ]
  },
  {
   "cell_type": "code",
   "execution_count": 8,
   "metadata": {
    "collapsed": false,
    "deletable": true,
    "editable": true
   },
   "outputs": [],
   "source": [
    "def is_passing_by(region, boarding_df):\n",
    "    result = boarding_df.where(boarding_df['버스정류장ARS번호'] == '0').dropna()\n",
    "    for ID in region:\n",
    "        if ID < 10000:\n",
    "            IDstr = str(ID).zfill(5)\n",
    "        else:\n",
    "            IDstr = str(ID)        \n",
    "        temp = boarding_df.where(boarding_df['버스정류장ARS번호'] == IDstr).dropna()\n",
    "        result = result.append(temp,ignore_index=True)\n",
    "\n",
    "    return result\n",
    "\n",
    "transfer_region_bus = is_passing_by(transfer_region,busStationBoarding)\n",
    "transfer_region_bus = transfer_region_bus.reindex(columns=['노선번호']).drop_duplicates()['노선번호'].tolist()"
   ]
  },
  {
   "cell_type": "code",
   "execution_count": 9,
   "metadata": {
    "collapsed": false,
    "deletable": true,
    "editable": true
   },
   "outputs": [],
   "source": [
    "home_region_bus = is_passing_by(home_region, busStationBoarding)\n",
    "home_region_bus = home_region_bus.reindex(columns=['노선번호']).drop_duplicates()['노선번호'].tolist()"
   ]
  },
  {
   "cell_type": "code",
   "execution_count": 10,
   "metadata": {
    "collapsed": false,
    "deletable": true,
    "editable": true
   },
   "outputs": [
    {
     "name": "stdout",
     "output_type": "stream",
     "text": [
      "['1162', '2115', '152', '1014', '162', '성북22', '성북20', '143', '104', '151', '171', '109', '1113', '1114', '1164', '7211', '110B', '1213', '153', '110A', '121', '1115', '1128', '101', '144']\n"
     ]
    }
   ],
   "source": [
    "common_line = []\n",
    "for line in transfer_region_bus:\n",
    "    if line in home_region_bus:\n",
    "        if not \"N\" in line:\n",
    "            common_line.append(line)\n",
    "        \n",
    "print(common_line)"
   ]
  },
  {
   "cell_type": "markdown",
   "metadata": {},
   "source": [
    "### 해당 노선들의 순차적 정류장 목록을 조사\n",
    "- 해당 정보를 제공하는 웹사이트는 있었으나, 이를 위한 API는 존재하지 않았음.\n",
    "- 정보가 html이 아닌 javascript로 매번 불러오는 방식이어서 자동화가 매우 힘들었음.\n",
    "- 따라서 웹사이트를 직접 손으로 크롤링함"
   ]
  },
  {
   "cell_type": "code",
   "execution_count": null,
   "metadata": {
    "collapsed": true
   },
   "outputs": [],
   "source": []
  },
  {
   "cell_type": "markdown",
   "metadata": {},
   "source": [
    "### 순차 정류장 목록을 이용하여 각 버스별로 어느 구간이 우이신설선과 중복되는지를 검출"
   ]
  },
  {
   "cell_type": "code",
   "execution_count": null,
   "metadata": {
    "collapsed": true
   },
   "outputs": [],
   "source": []
  }
 ],
 "metadata": {
  "kernelspec": {
   "display_name": "Python 3",
   "language": "python",
   "name": "python3"
  },
  "language_info": {
   "codemirror_mode": {
    "name": "ipython",
    "version": 3
   },
   "file_extension": ".py",
   "mimetype": "text/x-python",
   "name": "python",
   "nbconvert_exporter": "python",
   "pygments_lexer": "ipython3",
   "version": "3.6.1"
  }
 },
 "nbformat": 4,
 "nbformat_minor": 2
}
