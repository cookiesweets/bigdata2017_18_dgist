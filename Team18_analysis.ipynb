{
 "cells": [
  {
   "cell_type": "markdown",
   "metadata": {},
   "source": [
    "## 빅 데이터 분석 및 시각화 개론 프로젝트\n",
    "#주제: 대중교통 승하차 데이터를 이용한 우이신설선 수요 예측\n",
    "## 18조: 장민우, 표성준, 한승규\n",
    "---"
   ]
  },
  {
   "cell_type": "code",
   "execution_count": 14,
   "metadata": {
    "collapsed": true,
    "deletable": true,
    "editable": true
   },
   "outputs": [],
   "source": [
    "import numpy as np\n",
    "import pandas as pd\n",
    "import matplotlib.pyplot as plt\n",
    "%matplotlib inline"
   ]
  },
  {
   "cell_type": "code",
   "execution_count": 2,
   "metadata": {
    "collapsed": false,
    "deletable": true,
    "editable": true
   },
   "outputs": [
    {
     "data": {
      "text/html": [
       "<div>\n",
       "<table border=\"1\" class=\"dataframe\">\n",
       "  <thead>\n",
       "    <tr style=\"text-align: right;\">\n",
       "      <th></th>\n",
       "      <th>전철역코드</th>\n",
       "      <th>외부코드</th>\n",
       "      <th>전철역명</th>\n",
       "      <th>호선</th>\n",
       "      <th>정류장명</th>\n",
       "      <th>정류장ID</th>\n",
       "      <th>X좌표</th>\n",
       "      <th>Y좌표</th>\n",
       "    </tr>\n",
       "  </thead>\n",
       "  <tbody>\n",
       "    <tr>\n",
       "      <th>0</th>\n",
       "      <td>1958</td>\n",
       "      <td>310</td>\n",
       "      <td>대화</td>\n",
       "      <td>3</td>\n",
       "      <td>예비군훈련장</td>\n",
       "      <td>36262</td>\n",
       "      <td>177627</td>\n",
       "      <td>464279</td>\n",
       "    </tr>\n",
       "    <tr>\n",
       "      <th>1</th>\n",
       "      <td>1958</td>\n",
       "      <td>310</td>\n",
       "      <td>대화</td>\n",
       "      <td>3</td>\n",
       "      <td>대화역</td>\n",
       "      <td>36281</td>\n",
       "      <td>177715</td>\n",
       "      <td>464099</td>\n",
       "    </tr>\n",
       "    <tr>\n",
       "      <th>2</th>\n",
       "      <td>1958</td>\n",
       "      <td>310</td>\n",
       "      <td>대화</td>\n",
       "      <td>3</td>\n",
       "      <td>대화역</td>\n",
       "      <td>36601</td>\n",
       "      <td>177718</td>\n",
       "      <td>464073</td>\n",
       "    </tr>\n",
       "    <tr>\n",
       "      <th>3</th>\n",
       "      <td>1805</td>\n",
       "      <td>150</td>\n",
       "      <td>송내</td>\n",
       "      <td>1</td>\n",
       "      <td>송내역</td>\n",
       "      <td>46039</td>\n",
       "      <td>178169</td>\n",
       "      <td>443269</td>\n",
       "    </tr>\n",
       "    <tr>\n",
       "      <th>4</th>\n",
       "      <td>1805</td>\n",
       "      <td>150</td>\n",
       "      <td>송내</td>\n",
       "      <td>1</td>\n",
       "      <td>송내역</td>\n",
       "      <td>46731</td>\n",
       "      <td>178200</td>\n",
       "      <td>443181</td>\n",
       "    </tr>\n",
       "  </tbody>\n",
       "</table>\n",
       "</div>"
      ],
      "text/plain": [
       "   전철역코드 외부코드 전철역명 호선    정류장명  정류장ID     X좌표     Y좌표\n",
       "0   1958  310   대화  3  예비군훈련장  36262  177627  464279\n",
       "1   1958  310   대화  3     대화역  36281  177715  464099\n",
       "2   1958  310   대화  3     대화역  36601  177718  464073\n",
       "3   1805  150   송내  1     송내역  46039  178169  443269\n",
       "4   1805  150   송내  1     송내역  46731  178200  443181"
      ]
     },
     "execution_count": 2,
     "metadata": {},
     "output_type": "execute_result"
    }
   ],
   "source": [
    "subwayToBus = pd.read_csv('subwayToBus.csv')\n",
    "subwayToBus.head()"
   ]
  },
  {
   "cell_type": "code",
   "execution_count": 3,
   "metadata": {
    "collapsed": false,
    "deletable": true,
    "editable": true
   },
   "outputs": [
    {
     "data": {
      "text/html": [
       "<div>\n",
       "<table border=\"1\" class=\"dataframe\">\n",
       "  <thead>\n",
       "    <tr style=\"text-align: right;\">\n",
       "      <th></th>\n",
       "      <th>전철역코드</th>\n",
       "      <th>외부코드</th>\n",
       "      <th>전철역명</th>\n",
       "      <th>호선</th>\n",
       "      <th>정류장명</th>\n",
       "      <th>정류장ID</th>\n",
       "      <th>X좌표</th>\n",
       "      <th>Y좌표</th>\n",
       "    </tr>\n",
       "  </thead>\n",
       "  <tbody>\n",
       "    <tr>\n",
       "      <th>1088</th>\n",
       "      <td>418.0</td>\n",
       "      <td>418</td>\n",
       "      <td>성신여대입구</td>\n",
       "      <td>4</td>\n",
       "      <td>삼선동주민센터</td>\n",
       "      <td>8176.0</td>\n",
       "      <td>201300.0</td>\n",
       "      <td>454575.0</td>\n",
       "    </tr>\n",
       "    <tr>\n",
       "      <th>1089</th>\n",
       "      <td>418.0</td>\n",
       "      <td>418</td>\n",
       "      <td>성신여대입구</td>\n",
       "      <td>4</td>\n",
       "      <td>성신여대입구</td>\n",
       "      <td>8269.0</td>\n",
       "      <td>201435.0</td>\n",
       "      <td>454875.0</td>\n",
       "    </tr>\n",
       "    <tr>\n",
       "      <th>1090</th>\n",
       "      <td>418.0</td>\n",
       "      <td>418</td>\n",
       "      <td>성신여대입구</td>\n",
       "      <td>4</td>\n",
       "      <td>성신여대입구</td>\n",
       "      <td>8270.0</td>\n",
       "      <td>201449.0</td>\n",
       "      <td>454884.0</td>\n",
       "    </tr>\n",
       "    <tr>\n",
       "      <th>1091</th>\n",
       "      <td>418.0</td>\n",
       "      <td>418</td>\n",
       "      <td>성신여대입구</td>\n",
       "      <td>4</td>\n",
       "      <td>돈암시장입구</td>\n",
       "      <td>8305.0</td>\n",
       "      <td>201461.0</td>\n",
       "      <td>454719.0</td>\n",
       "    </tr>\n",
       "    <tr>\n",
       "      <th>1092</th>\n",
       "      <td>418.0</td>\n",
       "      <td>418</td>\n",
       "      <td>성신여대입구</td>\n",
       "      <td>4</td>\n",
       "      <td>돈암시장입구</td>\n",
       "      <td>8306.0</td>\n",
       "      <td>201478.0</td>\n",
       "      <td>454709.0</td>\n",
       "    </tr>\n",
       "    <tr>\n",
       "      <th>1093</th>\n",
       "      <td>418.0</td>\n",
       "      <td>418</td>\n",
       "      <td>성신여대입구</td>\n",
       "      <td>4</td>\n",
       "      <td>돈암사거리성신여대입구</td>\n",
       "      <td>8008.0</td>\n",
       "      <td>201576.0</td>\n",
       "      <td>454865.0</td>\n",
       "    </tr>\n",
       "    <tr>\n",
       "      <th>1094</th>\n",
       "      <td>418.0</td>\n",
       "      <td>418</td>\n",
       "      <td>성신여대입구</td>\n",
       "      <td>4</td>\n",
       "      <td>돈암사거리성신여대입구</td>\n",
       "      <td>8007.0</td>\n",
       "      <td>201602.0</td>\n",
       "      <td>454913.0</td>\n",
       "    </tr>\n",
       "  </tbody>\n",
       "</table>\n",
       "</div>"
      ],
      "text/plain": [
       "      전철역코드 외부코드    전철역명 호선         정류장명   정류장ID       X좌표       Y좌표\n",
       "1088  418.0  418  성신여대입구  4      삼선동주민센터  8176.0  201300.0  454575.0\n",
       "1089  418.0  418  성신여대입구  4       성신여대입구  8269.0  201435.0  454875.0\n",
       "1090  418.0  418  성신여대입구  4       성신여대입구  8270.0  201449.0  454884.0\n",
       "1091  418.0  418  성신여대입구  4       돈암시장입구  8305.0  201461.0  454719.0\n",
       "1092  418.0  418  성신여대입구  4       돈암시장입구  8306.0  201478.0  454709.0\n",
       "1093  418.0  418  성신여대입구  4  돈암사거리성신여대입구  8008.0  201576.0  454865.0\n",
       "1094  418.0  418  성신여대입구  4  돈암사거리성신여대입구  8007.0  201602.0  454913.0"
      ]
     },
     "execution_count": 3,
     "metadata": {},
     "output_type": "execute_result"
    }
   ],
   "source": [
    "transfer_region_list = list()\n",
    "subway_list = ['성신여대입구','길음','한성대입구','안암','보문','창신','제기동','신설동','동묘앞']\n",
    "for station in subway_list:\n",
    "    transfer_region_list.append(subwayToBus.where(subwayToBus['전철역명'] == station).dropna())\n",
    "transfer_region_list[0]"
   ]
  },
  {
   "cell_type": "code",
   "execution_count": 4,
   "metadata": {
    "collapsed": false,
    "deletable": true,
    "editable": true
   },
   "outputs": [],
   "source": [
    "transfer_region = list()\n",
    "for i in transfer_region_list:\n",
    "    temp_list = i['정류장ID'].tolist()\n",
    "    for j in temp_list:\n",
    "        transfer_region.append(int(j))"
   ]
  },
  {
   "cell_type": "code",
   "execution_count": 5,
   "metadata": {
    "collapsed": false,
    "deletable": true,
    "editable": true
   },
   "outputs": [
    {
     "data": {
      "text/html": [
       "<div>\n",
       "<table border=\"1\" class=\"dataframe\">\n",
       "  <thead>\n",
       "    <tr style=\"text-align: right;\">\n",
       "      <th></th>\n",
       "      <th>지하철</th>\n",
       "      <th>정류장</th>\n",
       "      <th>코드</th>\n",
       "    </tr>\n",
       "  </thead>\n",
       "  <tbody>\n",
       "    <tr>\n",
       "      <th>0</th>\n",
       "      <td>북한산우이</td>\n",
       "      <td>우이동</td>\n",
       "      <td>9500</td>\n",
       "    </tr>\n",
       "    <tr>\n",
       "      <th>1</th>\n",
       "      <td>북한산우이</td>\n",
       "      <td>우이동차고지종점</td>\n",
       "      <td>9294</td>\n",
       "    </tr>\n",
       "    <tr>\n",
       "      <th>2</th>\n",
       "      <td>북한산우이</td>\n",
       "      <td>우이동차고지기점</td>\n",
       "      <td>9289</td>\n",
       "    </tr>\n",
       "    <tr>\n",
       "      <th>3</th>\n",
       "      <td>북한산우이</td>\n",
       "      <td>우이동도선사입구</td>\n",
       "      <td>9102</td>\n",
       "    </tr>\n",
       "    <tr>\n",
       "      <th>4</th>\n",
       "      <td>북한산우이</td>\n",
       "      <td>우이동도선사입구</td>\n",
       "      <td>9101</td>\n",
       "    </tr>\n",
       "  </tbody>\n",
       "</table>\n",
       "</div>"
      ],
      "text/plain": [
       "     지하철       정류장    코드\n",
       "0  북한산우이       우이동  9500\n",
       "1  북한산우이  우이동차고지종점  9294\n",
       "2  북한산우이  우이동차고지기점  9289\n",
       "3  북한산우이  우이동도선사입구  9102\n",
       "4  북한산우이  우이동도선사입구  9101"
      ]
     },
     "execution_count": 5,
     "metadata": {},
     "output_type": "execute_result"
    }
   ],
   "source": [
    "HomeRegionData = pd.read_csv('HomeRegion.csv')\n",
    "HomeRegionData.head()"
   ]
  },
  {
   "cell_type": "code",
   "execution_count": 6,
   "metadata": {
    "collapsed": false,
    "deletable": true,
    "editable": true
   },
   "outputs": [],
   "source": [
    "home_region = list()\n",
    "temp_list = HomeRegionData['코드'].tolist()\n",
    "for j in temp_list:\n",
    "    home_region.append(int(j))"
   ]
  },
  {
   "cell_type": "code",
   "execution_count": 7,
   "metadata": {
    "collapsed": false,
    "deletable": true,
    "editable": true
   },
   "outputs": [
    {
     "data": {
      "text/html": [
       "<div>\n",
       "<table border=\"1\" class=\"dataframe\">\n",
       "  <thead>\n",
       "    <tr style=\"text-align: right;\">\n",
       "      <th></th>\n",
       "      <th>사용일자</th>\n",
       "      <th>노선번호</th>\n",
       "      <th>노선명</th>\n",
       "      <th>표준버스정류장ID</th>\n",
       "      <th>버스정류장ARS번호</th>\n",
       "      <th>역명</th>\n",
       "      <th>승차총승객수</th>\n",
       "      <th>하차총승객수</th>\n",
       "      <th>등록일자</th>\n",
       "    </tr>\n",
       "  </thead>\n",
       "  <tbody>\n",
       "    <tr>\n",
       "      <th>0</th>\n",
       "      <td>20171001.0</td>\n",
       "      <td>141</td>\n",
       "      <td>141번(도봉산~염곡동)</td>\n",
       "      <td>109000031.0</td>\n",
       "      <td>10114</td>\n",
       "      <td>도봉소방서</td>\n",
       "      <td>106.0</td>\n",
       "      <td>73.0</td>\n",
       "      <td>20171004.0</td>\n",
       "    </tr>\n",
       "    <tr>\n",
       "      <th>1</th>\n",
       "      <td>20171001.0</td>\n",
       "      <td>141</td>\n",
       "      <td>141번(도봉산~염곡동)</td>\n",
       "      <td>109000008.0</td>\n",
       "      <td>10008</td>\n",
       "      <td>신도봉사거리</td>\n",
       "      <td>26.0</td>\n",
       "      <td>155.0</td>\n",
       "      <td>20171004.0</td>\n",
       "    </tr>\n",
       "    <tr>\n",
       "      <th>2</th>\n",
       "      <td>20171001.0</td>\n",
       "      <td>141</td>\n",
       "      <td>141번(도봉산~염곡동)</td>\n",
       "      <td>122000235.0</td>\n",
       "      <td>23339</td>\n",
       "      <td>하나은행사거리</td>\n",
       "      <td>114.0</td>\n",
       "      <td>15.0</td>\n",
       "      <td>20171004.0</td>\n",
       "    </tr>\n",
       "    <tr>\n",
       "      <th>3</th>\n",
       "      <td>20171001.0</td>\n",
       "      <td>141</td>\n",
       "      <td>141번(도봉산~염곡동)</td>\n",
       "      <td>109000030.0</td>\n",
       "      <td>10113</td>\n",
       "      <td>도봉소방서</td>\n",
       "      <td>58.0</td>\n",
       "      <td>257.0</td>\n",
       "      <td>20171004.0</td>\n",
       "    </tr>\n",
       "    <tr>\n",
       "      <th>4</th>\n",
       "      <td>20171001.0</td>\n",
       "      <td>141</td>\n",
       "      <td>141번(도봉산~염곡동)</td>\n",
       "      <td>122000192.0</td>\n",
       "      <td>23296</td>\n",
       "      <td>대림역삼아파트</td>\n",
       "      <td>174.0</td>\n",
       "      <td>33.0</td>\n",
       "      <td>20171004.0</td>\n",
       "    </tr>\n",
       "  </tbody>\n",
       "</table>\n",
       "</div>"
      ],
      "text/plain": [
       "         사용일자 노선번호            노선명    표준버스정류장ID 버스정류장ARS번호       역명  승차총승객수  \\\n",
       "0  20171001.0  141  141번(도봉산~염곡동)  109000031.0      10114    도봉소방서   106.0   \n",
       "1  20171001.0  141  141번(도봉산~염곡동)  109000008.0      10008   신도봉사거리    26.0   \n",
       "2  20171001.0  141  141번(도봉산~염곡동)  122000235.0      23339  하나은행사거리   114.0   \n",
       "3  20171001.0  141  141번(도봉산~염곡동)  109000030.0      10113    도봉소방서    58.0   \n",
       "4  20171001.0  141  141번(도봉산~염곡동)  122000192.0      23296  대림역삼아파트   174.0   \n",
       "\n",
       "   하차총승객수        등록일자  \n",
       "0    73.0  20171004.0  \n",
       "1   155.0  20171004.0  \n",
       "2    15.0  20171004.0  \n",
       "3   257.0  20171004.0  \n",
       "4    33.0  20171004.0  "
      ]
     },
     "execution_count": 7,
     "metadata": {},
     "output_type": "execute_result"
    }
   ],
   "source": [
    "busStationBoarding = pd.read_csv('BUS_STATION_BOARDING_MONTH_201710.csv')\n",
    "busStationBoarding = busStationBoarding.where(busStationBoarding['사용일자'] == 20171001).dropna()\n",
    "busStationBoarding.head()"
   ]
  },
  {
   "cell_type": "code",
   "execution_count": 8,
   "metadata": {
    "collapsed": false,
    "deletable": true,
    "editable": true
   },
   "outputs": [],
   "source": [
    "def is_passing_by(region, boarding_df):\n",
    "    result = boarding_df.where(boarding_df['버스정류장ARS번호'] == '0').dropna()\n",
    "    for ID in region:\n",
    "        if ID < 10000:\n",
    "            IDstr = str(ID).zfill(5)\n",
    "        else:\n",
    "            IDstr = str(ID)        \n",
    "        temp = boarding_df.where(boarding_df['버스정류장ARS번호'] == IDstr).dropna()\n",
    "        result = result.append(temp,ignore_index=True)\n",
    "\n",
    "    return result\n",
    "\n",
    "transfer_region_bus = is_passing_by(transfer_region,busStationBoarding)\n",
    "transfer_region_bus = transfer_region_bus.reindex(columns=['노선번호']).drop_duplicates()['노선번호'].tolist()"
   ]
  },
  {
   "cell_type": "code",
   "execution_count": 9,
   "metadata": {
    "collapsed": false,
    "deletable": true,
    "editable": true
   },
   "outputs": [],
   "source": [
    "home_region_bus = is_passing_by(home_region, busStationBoarding)\n",
    "home_region_bus = home_region_bus.reindex(columns=['노선번호']).drop_duplicates()['노선번호'].tolist()"
   ]
  },
  {
   "cell_type": "code",
   "execution_count": 13,
   "metadata": {
    "collapsed": false
   },
   "outputs": [
    {
     "name": "stdout",
     "output_type": "stream",
     "text": [
      "['152', '1162', '2115', '1014', '162', '성북22', '성북20', '143', '104', '171', '109', '151', '1113', '1164', '1114', '110B', '7211', '1213', '153', '110A', '121', '1115', '1128', '101', '144']\n"
     ]
    }
   ],
   "source": [
    "common_line = []\n",
    "for line in transfer_region_bus:\n",
    "    if line in home_region_bus:\n",
    "        if not \"N\" in line:\n",
    "            common_line.append(line)\n",
    "        \n",
    "print(common_line)"
   ]
  }
 ],
 "metadata": {
  "kernelspec": {
   "display_name": "Python 3",
   "language": "python",
   "name": "python3"
  },
  "language_info": {
   "codemirror_mode": {
    "name": "ipython",
    "version": 3
   },
   "file_extension": ".py",
   "mimetype": "text/x-python",
   "name": "python",
   "nbconvert_exporter": "python",
   "pygments_lexer": "ipython3",
   "version": "3.6.1"
  }
 },
 "nbformat": 4,
 "nbformat_minor": 2
}
